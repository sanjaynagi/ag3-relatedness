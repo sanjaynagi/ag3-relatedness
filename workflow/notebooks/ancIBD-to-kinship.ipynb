{
 "cells": [
  {
   "cell_type": "code",
   "execution_count": null,
   "id": "109ad732-52d3-457c-a2f2-c0f057285d79",
   "metadata": {},
   "outputs": [],
   "source": [
    "import pandas as pd\n",
    "import numpy as np"
   ]
  },
  {
   "cell_type": "code",
   "execution_count": null,
   "id": "8d626c59-9a39-4ddd-91f3-f0d2acee28bc",
   "metadata": {},
   "outputs": [],
   "source": [
    "df_ibd = pd.read_csv(\"../../ag3_results/ibd/AG1000G-GH/ibd.tsv\", sep=\"\\t\")"
   ]
  },
  {
   "cell_type": "code",
   "execution_count": null,
   "id": "6f582e37-3ac1-4328-b38c-d418f53e866f",
   "metadata": {},
   "outputs": [],
   "source": [
    "df_ibd = df_ibd.assign(cm=lambda x: x.lengthM * 100, \n",
    "             size=lambda x: x.EndBP - x.StartBP,\n",
    "                size_snps=lambda x: x.End - x.Start).assign(cm_snp_ratio=lambda x: x.size_snps / x.cm,\n",
    "                midpoint=lambda x: (x.EndBP + x.StartBP)/2)"
   ]
  },
  {
   "cell_type": "code",
   "execution_count": null,
   "id": "ead74363-0c9e-474e-81a6-37fec6bc49b2",
   "metadata": {},
   "outputs": [],
   "source": [
    "import malariagen_data\n",
    "ag3 = malariagen_data.Ag3()\n",
    "total_genome_size = np.sum([ag3.genome_sequence(c).shape[0] for c in ('2RL', '3RL')])"
   ]
  },
  {
   "cell_type": "code",
   "execution_count": null,
   "id": "2df69487-0db4-40e6-a3e2-7307109175ea",
   "metadata": {},
   "outputs": [],
   "source": [
    "px.histogram(df_ibd['cm_snp_ratio'])"
   ]
  },
  {
   "cell_type": "code",
   "execution_count": null,
   "id": "a7943dac-92c4-42ac-bd57-08a29da2e3e3",
   "metadata": {},
   "outputs": [],
   "source": [
    "px.scatter(df_ibd.query(\"cm < 100\"), x='size_snps', y='cm', hover_data=['StartBP', 'EndBP', 'ch'], color='cm_snp_ratio', template='simple_white')"
   ]
  },
  {
   "cell_type": "code",
   "execution_count": null,
   "id": "d2514668-7b63-4265-8296-2aef9b0430ab",
   "metadata": {},
   "outputs": [],
   "source": [
    "gff = ag3.genome_features('2RL').query(\"type == 'gene'\")\n",
    "gff.query(\"ID in ['AGAP004707', 'AGAP006028']\")"
   ]
  },
  {
   "cell_type": "code",
   "execution_count": null,
   "id": "af6dba97-2628-4bc4-9ff5-ada2cbbead37",
   "metadata": {},
   "outputs": [],
   "source": [
    "px.histogram(df_ibd.query(\"ch == '2RL'\").midpoint, template='simple_white')"
   ]
  },
  {
   "cell_type": "code",
   "execution_count": null,
   "id": "ff4d4402-a9e0-4f97-9267-c2575a86ed10",
   "metadata": {},
   "outputs": [],
   "source": [
    "px.histogram(df_ibd.query(\"ch == '3RL'\").midpoint, template='simple_white')"
   ]
  },
  {
   "cell_type": "code",
   "execution_count": null,
   "id": "5f4e6850-5368-432e-87b5-54ac407817d0",
   "metadata": {},
   "outputs": [],
   "source": [
    "df_samples = ag3.sample_metadata(\"1244-VO-GH-YAWSON-VMF00149\")"
   ]
  },
  {
   "cell_type": "code",
   "execution_count": null,
   "id": "d3200f9b-4510-4fcd-9f33-6d78a1e8a9aa",
   "metadata": {},
   "outputs": [],
   "source": [
    "df_samples = df_samples.iloc[:, :2]"
   ]
  },
  {
   "cell_type": "code",
   "execution_count": null,
   "id": "213f390b-d413-4e7f-a9a7-11588683be58",
   "metadata": {},
   "outputs": [],
   "source": [
    "result = df_ibd.groupby(['iid1', 'iid2']).agg({\n",
    "    'size': ['count', 'mean', 'sum'],\n",
    "    'cm': ['mean', 'sum']\n",
    "})\n",
    "\n",
    "# Rename the columns for clarity\n",
    "result.columns = ['count', 'size_mean', 'size_total', 'cm_mean', 'cm_total']\n",
    "\n",
    "# Reset the index to make 'var1' and 'var2' regular columns\n",
    "result = result.reset_index()\n",
    "result = result.assign(fraction_genome_ibd=lambda x: x.size_total / total_genome_size)\n",
    "result = result.assign(kinship_coeff = lambda x: x.fraction_genome_ibd / 2)   # need editing \n",
    "\n",
    "result = result.merge(df_samples, left_on='iid1', right_on='sample_id').merge(df_samples, left_on='iid2', right_on='sample_id').drop(columns=['sample_id_x', 'sample_id_y'])\n",
    "\n",
    "result.sort_values('kinship_coeff', ascending=False)[:50]"
   ]
  },
  {
   "cell_type": "code",
   "execution_count": null,
   "id": "7407d696-700c-46f2-bb88-e4cfc5d1f6eb",
   "metadata": {},
   "outputs": [],
   "source": [
    "import plotly.express as px"
   ]
  },
  {
   "cell_type": "code",
   "execution_count": null,
   "id": "77459347-78fc-4696-8c76-2c98cdbb38a9",
   "metadata": {},
   "outputs": [],
   "source": [
    "px.histogram(result['kinship_coeff'], template='simple_white')"
   ]
  }
 ],
 "metadata": {
  "kernelspec": {
   "display_name": "Python 3 (ipykernel)",
   "language": "python",
   "name": "python3"
  },
  "language_info": {
   "codemirror_mode": {
    "name": "ipython",
    "version": 3
   },
   "file_extension": ".py",
   "mimetype": "text/x-python",
   "name": "python",
   "nbconvert_exporter": "python",
   "pygments_lexer": "ipython3",
   "version": "3.11.0"
  }
 },
 "nbformat": 4,
 "nbformat_minor": 5
}
