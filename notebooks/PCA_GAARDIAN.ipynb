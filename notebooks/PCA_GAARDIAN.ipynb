{
 "cells": [
  {
   "cell_type": "code",
   "execution_count": 15,
   "id": "366c4c2d-e5a7-4c8c-9a4b-2789e47c65ff",
   "metadata": {},
   "outputs": [],
   "source": [
    "%matplotlib inline\n",
    "\n",
    "import malariagen_data\n",
    "import allel\n",
    "import numpy as np\n",
    "import pandas as pd\n",
    "import zarr\n",
    "from pathlib import Path\n",
    "import scipy\n",
    "import seaborn as sns\n",
    "import matplotlib\n",
    "import matplotlib.pyplot as plt"
   ]
  },
  {
   "cell_type": "markdown",
   "id": "bf73c1f2-f6f5-4237-b326-246a3ce10a3f",
   "metadata": {},
   "source": [
    "### GAARDIAN - PCA"
   ]
  },
  {
   "cell_type": "code",
   "execution_count": 16,
   "id": "9050e372-32a9-42bb-ae90-0f1180f1ed82",
   "metadata": {},
   "outputs": [],
   "source": [
    "%run tools.py"
   ]
  },
  {
   "cell_type": "code",
   "execution_count": 17,
   "id": "adf6110f-82f9-4869-a3c4-9aae549992d4",
   "metadata": {},
   "outputs": [],
   "source": [
    "ag3 = malariagen_data.Ag3(\"gs://vo_agam_release/\", pre=True)"
   ]
  },
  {
   "cell_type": "code",
   "execution_count": 18,
   "id": "8a0a4610-f50d-462b-a960-c7adc32d1d50",
   "metadata": {},
   "outputs": [
    {
     "data": {
      "text/html": [
       "<div>\n",
       "<style scoped>\n",
       "    .dataframe tbody tr th:only-of-type {\n",
       "        vertical-align: middle;\n",
       "    }\n",
       "\n",
       "    .dataframe tbody tr th {\n",
       "        vertical-align: top;\n",
       "    }\n",
       "\n",
       "    .dataframe thead th {\n",
       "        text-align: right;\n",
       "    }\n",
       "</style>\n",
       "<table border=\"1\" class=\"dataframe\">\n",
       "  <thead>\n",
       "    <tr style=\"text-align: right;\">\n",
       "      <th></th>\n",
       "      <th>sample_set</th>\n",
       "      <th>sample_count</th>\n",
       "      <th>release</th>\n",
       "    </tr>\n",
       "  </thead>\n",
       "  <tbody>\n",
       "    <tr>\n",
       "      <th>0</th>\n",
       "      <td>1191-VO-MULTI-OLOUGHLIN-VMF00106</td>\n",
       "      <td>237</td>\n",
       "      <td>v3.4</td>\n",
       "    </tr>\n",
       "    <tr>\n",
       "      <th>1</th>\n",
       "      <td>1191-VO-MULTI-OLOUGHLIN-VMF00140</td>\n",
       "      <td>1095</td>\n",
       "      <td>v3.4</td>\n",
       "    </tr>\n",
       "    <tr>\n",
       "      <th>2</th>\n",
       "      <td>1244-VO-GH-YAWSON-VMF00149</td>\n",
       "      <td>485</td>\n",
       "      <td>v3.4</td>\n",
       "    </tr>\n",
       "  </tbody>\n",
       "</table>\n",
       "</div>"
      ],
      "text/plain": [
       "                         sample_set  sample_count release\n",
       "0  1191-VO-MULTI-OLOUGHLIN-VMF00106           237    v3.4\n",
       "1  1191-VO-MULTI-OLOUGHLIN-VMF00140          1095    v3.4\n",
       "2        1244-VO-GH-YAWSON-VMF00149           485    v3.4"
      ]
     },
     "execution_count": 18,
     "metadata": {},
     "output_type": "execute_result"
    }
   ],
   "source": [
    "df_sample_sets = ag3.sample_sets(release=\"v3.4\")\n",
    "df_sample_sets"
   ]
  },
  {
   "cell_type": "markdown",
   "id": "8ec037bc-a804-4e65-abf2-ca568a22aab6",
   "metadata": {},
   "source": [
    "Lets load the sample metadata and the SNP genotypes and positions. "
   ]
  },
  {
   "cell_type": "code",
   "execution_count": 19,
   "id": "7a3ba379-3d59-4e1e-bddb-0da85a46236f",
   "metadata": {},
   "outputs": [],
   "source": [
    "my_sample_set = '1244-VO-GH-YAWSON-VMF00149'\n",
    "metadata = ag3.sample_metadata(sample_sets=my_sample_set)"
   ]
  },
  {
   "cell_type": "markdown",
   "id": "62989a05-83b9-46d2-9b1a-86ae7b6cd789",
   "metadata": {},
   "source": [
    "Lets make a new column in the metadata of overall village, rather than village x house. We split on full stops and take the first element. "
   ]
  },
  {
   "cell_type": "code",
   "execution_count": 20,
   "id": "6b535f30-5f9f-4fe6-a557-9a199dc8391d",
   "metadata": {},
   "outputs": [],
   "source": [
    "metadata['location2'] = metadata['location'].str.split(\".\").str.get(0)"
   ]
  },
  {
   "cell_type": "markdown",
   "id": "b52a22c1-eeee-4297-9b1b-a909fd29ec9b",
   "metadata": {},
   "source": [
    "How many do we have from each species?"
   ]
  },
  {
   "cell_type": "code",
   "execution_count": 21,
   "id": "01866cbf-c4dd-405d-9bfd-0812cdb9106e",
   "metadata": {},
   "outputs": [
    {
     "data": {
      "text/plain": [
       "coluzzii    422\n",
       "gambiae      63\n",
       "Name: species, dtype: int64"
      ]
     },
     "execution_count": 21,
     "metadata": {},
     "output_type": "execute_result"
    }
   ],
   "source": [
    "metadata.species.value_counts()"
   ]
  },
  {
   "cell_type": "markdown",
   "id": "91d6c28a-a773-4e92-9ac6-85f539a540ee",
   "metadata": {},
   "source": [
    "### PCA"
   ]
  },
  {
   "cell_type": "code",
   "execution_count": 22,
   "id": "dd7385ef-bad1-44d1-b4c8-2305058f1921",
   "metadata": {},
   "outputs": [],
   "source": [
    "chroms = ['2L', '2R', '3R', '3L', 'X']"
   ]
  },
  {
   "cell_type": "code",
   "execution_count": 23,
   "id": "3d9e9b6f-a0bc-4f53-a5a2-0701a228d995",
   "metadata": {},
   "outputs": [],
   "source": [
    "from collections import defaultdict\n",
    "samplenames = metadata['partner_sample_id']\n",
    "ind = defaultdict(list)\n",
    "\n",
    "for s,names in enumerate(samplenames):\n",
    "    idx = np.where(np.isin(metadata['partner_sample_id'],names))[0][0]\n",
    "    t = metadata['location2'][idx]\n",
    "    ind[t].append(s)\n",
    "    subpops = dict(ind)"
   ]
  },
  {
   "cell_type": "code",
   "execution_count": null,
   "id": "a9204f71-1c4a-4c02-9747-a6b43bdf29dc",
   "metadata": {},
   "outputs": [],
   "source": [
    "for chrom in chroms:\n",
    "    gambcolu_filter = ag3.site_filters(mask=\"gamb_colu\", contig=chrom)\n",
    "    geno = allel.GenotypeDaskArray(ag3.snp_genotypes(contig=chrom, sample_sets='1244-VO-GH-YAWSON-VMF00051')).compress(gambcolu_filter, axis=0)\n",
    "    \n",
    "    d={}\n",
    "    for name, inds in subpops.items():\n",
    "        for n in range(len(inds)):\n",
    "            p = inds[n]\n",
    "            d[p] = name\n",
    "\n",
    "        # Store dict as a dataframe and get colours \n",
    "    treatment_indices = pd.DataFrame.from_dict(d, orient='index').reset_index()\n",
    "    treatment_indices = treatment_indices.rename(columns = {'index':'sample_index', 0:\"name\"})\n",
    "    pop_colours = get_colour_dict(treatment_indices['name'], \"viridis\")\n",
    "\n",
    "    # Run PCA function defined in tools.py\n",
    "    print(f\"Performing PCA on GAARD chromosome {chrom}\")\n",
    "    pca(geno, chrom, 2, \"GAARD\", samplenames, metadata, pop_colours, prune=False, scaler=None)"
   ]
  },
  {
   "cell_type": "code",
   "execution_count": null,
   "id": "1cf3ce8f-26da-4547-a189-0eb826fe04fe",
   "metadata": {},
   "outputs": [],
   "source": []
  }
 ],
 "metadata": {
  "kernelspec": {
   "display_name": "Python [conda env:binder-v3.1.0]",
   "language": "python",
   "name": "conda-env-binder-v3.1.0-py"
  },
  "language_info": {
   "codemirror_mode": {
    "name": "ipython",
    "version": 3
   },
   "file_extension": ".py",
   "mimetype": "text/x-python",
   "name": "python",
   "nbconvert_exporter": "python",
   "pygments_lexer": "ipython3",
   "version": "3.8.0"
  }
 },
 "nbformat": 4,
 "nbformat_minor": 5
}
