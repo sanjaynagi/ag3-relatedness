{
 "cells": [
  {
   "cell_type": "code",
   "execution_count": 1,
   "metadata": {},
   "outputs": [],
   "source": [
    "import allel\n",
    "import pandas \n",
    "from datetime import date\n",
    "import numpy\n",
    "import dask\n",
    "import dask.dataframe as dd\n",
    "import dask.array as da\n",
    "from pathlib import Path\n",
    "dask.config.set(**{'array.slicing.split_large_chunks': True})\n",
    "import sys\n",
    "\n",
    "\n",
    "def log(*msg):\n",
    "    print(*msg, file=sys.stdout)\n",
    "    sys.stdout.flush()\n",
    "    \n",
    "\n",
    "%run tools.py"
   ]
  },
  {
   "cell_type": "markdown",
   "metadata": {},
   "source": [
    "### Make a VCF to Zarr function\n",
    "\n",
    "Making use of pandas, and allel.write_vcf_header() function."
   ]
  },
  {
   "cell_type": "code",
   "execution_count": 2,
   "metadata": {},
   "outputs": [],
   "source": [
    "def write_vcf_header(vcf_file):\n",
    "    \n",
    "    print('##fileformat=VCFv4.1', file=vcf_file)\n",
    "    # write today's date\n",
    "    today = date.today().strftime('%Y%m%d')\n",
    "    print('##fileDate=%s' % today, file=vcf_file)\n",
    "    # write source\n",
    "    print('##source=scikit-allel-%s + write_vcf_gaardian.py' % allel.__version__, file=vcf_file)\n",
    "    #write refs and contigs \n",
    "    print('##reference=resources/reference/Anopheles-gambiae-PEST_CHROMOSOMES_AgamP4.fa', file=vcf_file)\n",
    "    print('##contig=<ID=2R,length=61545105>', file=vcf_file)\n",
    "    print('##contig=<ID=3R,length=53200684>', file=vcf_file)\n",
    "    print('##contig=<ID=2L,length=49364325>', file=vcf_file)\n",
    "    print('##contig=<ID=3L,length=41963435>', file=vcf_file)\n",
    "    print('##contig=<ID=X,length=24393108>', file=vcf_file)\n",
    "    print('##FORMAT=<ID=GT,Number=1,Type=String,Description=\"Genotype\">', file=vcf_file)\n",
    "\n",
    "\n",
    "def gn_to_pd_to_vcf(vcf_file, sample_set, chrom, nchunks=50, snpfilter = \"segregating\"):\n",
    "    \n",
    "    \"\"\"\n",
    "    Converts genotype and POS arrays to vcf, using pd dataframes in chunks. \n",
    "    Segregating sites only. \n",
    "    \"\"\"\n",
    "    \n",
    "    #if file exists ignore and skip\n",
    "    myfile = Path(f\"{vcf_file}.gz\")\n",
    "    if myfile.is_file():\n",
    "        print(f\"File {vcf_file}.gz Exists...\")\n",
    "        return\n",
    "    \n",
    "    log(f\"Loading array for {chrom}...\")\n",
    "    geno, pos, metadata = load_arrays_and_metadata(\"../resources\", sample_set, chrom)\n",
    "    \n",
    "    allpos = allel.SortedIndex(zarr.open_array(f\"../resources/snp_genotypes/all/sites/{chrom}/variants/POS/\")[:])\n",
    "    ref_alt_filter = allpos.locate_intersection(pos)[0]\n",
    "    \n",
    "    refs = zarr.open_array(f\"../resources/snp_genotypes/all/sites/{chrom}/variants/REF/\")[:][ref_alt_filter]\n",
    "    alts = zarr.open_array(f\"../resources/snp_genotypes/all/sites/{chrom}/variants/ALT/\")[:][ref_alt_filter]\n",
    "    \n",
    "    \n",
    "    if snpfilter == \"segregating\":\n",
    "        log(\"Find segregating sites...\")\n",
    "        flt = geno.count_alleles().is_segregating()\n",
    "        geno = geno.compress(flt, axis=0)\n",
    "        positions = pos[flt]\n",
    "        refs = refs[flt].astype(str)\n",
    "        alts = [a +\",\" + b + \",\" + c for a,b,c in alts[flt].astype(str)]\n",
    "    elif snpfilter == 'biallelic01':\n",
    "        log(\"Finding biallelic01 sites...\")\n",
    "        flt = geno.count_alleles().is_biallelic_01()\n",
    "        geno = geno.compress(flt, axis=0)\n",
    "        positions = pos[flt]\n",
    "        refs = refs[flt].astype(str)\n",
    "        alts = [a for a,b,c in alts[flt].astype(str)]\n",
    "    else:\n",
    "        assert np.isin(snpfilter, ['segregating', \"biallelic01\"]).any(), \"incorrect snpfilter value\"\n",
    "  \n",
    "    log(\"calculating chunks sizes...\")\n",
    "    chunks = np.round(np.arange(0, geno.shape[0], geno.shape[0]/nchunks)).astype(int).tolist()\n",
    "    chunks.append(geno.shape[0])\n",
    "\n",
    "    for idx, chunk in enumerate(chunks[:-1]):\n",
    "\n",
    "        gn = geno[chunks[idx]:chunks[idx+1]].compute()\n",
    "        pos = positions[chunks[idx]:chunks[idx+1]]\n",
    "        ref = refs[chunks[idx]:chunks[idx+1]]\n",
    "        alt = alts[chunks[idx]:chunks[idx+1]]\n",
    "        \n",
    "        # Contruct SNP info DF\n",
    "        vcf_df = pd.DataFrame({'#CHROM': chrom,\n",
    "                 'POS': pos,\n",
    "                 'ID': '.',\n",
    "                 'REF': ref,\n",
    "                 'ALT': alt,\n",
    "                 'QUAL': '.',\n",
    "                 'FILTER': '.',\n",
    "                 'INFO':'.',\n",
    "                'FORMAT': 'GT'})\n",
    "\n",
    "        log(f\"Pandas SNP info DataFrame constructed...{idx}\")\n",
    "\n",
    "        # Geno to VCF\n",
    "        vcf = pd.DataFrame(gn.to_gt().astype(str), columns=metadata['partner_sample_id'])\n",
    "        log(\"Concatenating info and genotype dataframes...\")\n",
    "        vcf = pd.concat([vcf_df, vcf], axis=1)\n",
    "\n",
    "        log(f\"Pandas Genotype data constructed...{idx}\")\n",
    "\n",
    "        if (idx==0) is True:\n",
    "            with open(f\"{vcf_file}\", 'w') as vcfheader:\n",
    "                    write_vcf_header(vcfheader)\n",
    "\n",
    "        log(\"Writing to .vcf\")\n",
    "\n",
    "        vcf.to_csv(vcf_file, \n",
    "                   sep=\"\\t\", \n",
    "                   index=False,\n",
    "                   mode='a',\n",
    "                  header=(idx==0), \n",
    "                  line_terminator=\"\\n\")"
   ]
  },
  {
   "cell_type": "markdown",
   "metadata": {},
   "source": [
    "### Write multiallelic (segregating snps only) VCF file"
   ]
  },
  {
   "cell_type": "code",
   "execution_count": 4,
   "metadata": {
    "scrolled": true
   },
   "outputs": [
    {
     "name": "stdout",
     "output_type": "stream",
     "text": [
      "File ../resources/vcfs/ag3_gaardian_2L.vcf.gz Exists...\n",
      "File ../resources/vcfs/ag3_gaardian_2R.vcf.gz Exists...\n",
      "File ../resources/vcfs/ag3_gaardian_3L.vcf.gz Exists...\n",
      "Loading array for 3R...\n",
      "Find segregating sites...\n",
      "calculating chunks sizes...\n",
      "Pandas SNP info DataFrame constructed...0\n",
      "Concatenating info and genotype dataframes...\n",
      "Pandas Genotype data constructed...0\n",
      "Writing to .vcf\n",
      "Pandas SNP info DataFrame constructed...1\n"
     ]
    },
    {
     "ename": "KeyboardInterrupt",
     "evalue": "",
     "output_type": "error",
     "traceback": [
      "\u001b[0;31m---------------------------------------------------------------------------\u001b[0m",
      "\u001b[0;31mKeyboardInterrupt\u001b[0m                         Traceback (most recent call last)",
      "\u001b[0;32m<ipython-input-4-e8d43070b3f8>\u001b[0m in \u001b[0;36m<module>\u001b[0;34m\u001b[0m\n\u001b[1;32m      4\u001b[0m \u001b[0;32mfor\u001b[0m \u001b[0mchrom\u001b[0m \u001b[0;32min\u001b[0m \u001b[0mchroms\u001b[0m\u001b[0;34m:\u001b[0m\u001b[0;34m\u001b[0m\u001b[0;34m\u001b[0m\u001b[0m\n\u001b[1;32m      5\u001b[0m \u001b[0;34m\u001b[0m\u001b[0m\n\u001b[0;32m----> 6\u001b[0;31m     \u001b[0mgn_to_pd_to_vcf\u001b[0m\u001b[0;34m(\u001b[0m\u001b[0;34mf\"../resources/vcfs/ag3_gaardian_{chrom}.vcf\"\u001b[0m\u001b[0;34m,\u001b[0m \u001b[0msample_set\u001b[0m\u001b[0;34m,\u001b[0m \u001b[0mchrom\u001b[0m\u001b[0;34m)\u001b[0m\u001b[0;34m\u001b[0m\u001b[0;34m\u001b[0m\u001b[0m\n\u001b[0m\u001b[1;32m      7\u001b[0m \u001b[0;34m\u001b[0m\u001b[0m\n",
      "\u001b[0;32m<ipython-input-2-75db66877249>\u001b[0m in \u001b[0;36mgn_to_pd_to_vcf\u001b[0;34m(vcf_file, sample_set, chrom, nchunks, snpfilter)\u001b[0m\n\u001b[1;32m     82\u001b[0m \u001b[0;34m\u001b[0m\u001b[0m\n\u001b[1;32m     83\u001b[0m         \u001b[0;31m# Geno to VCF\u001b[0m\u001b[0;34m\u001b[0m\u001b[0;34m\u001b[0m\u001b[0;34m\u001b[0m\u001b[0m\n\u001b[0;32m---> 84\u001b[0;31m         \u001b[0mvcf\u001b[0m \u001b[0;34m=\u001b[0m \u001b[0mpd\u001b[0m\u001b[0;34m.\u001b[0m\u001b[0mDataFrame\u001b[0m\u001b[0;34m(\u001b[0m\u001b[0mgn\u001b[0m\u001b[0;34m.\u001b[0m\u001b[0mto_gt\u001b[0m\u001b[0;34m(\u001b[0m\u001b[0;34m)\u001b[0m\u001b[0;34m.\u001b[0m\u001b[0mastype\u001b[0m\u001b[0;34m(\u001b[0m\u001b[0mstr\u001b[0m\u001b[0;34m)\u001b[0m\u001b[0;34m,\u001b[0m \u001b[0mcolumns\u001b[0m\u001b[0;34m=\u001b[0m\u001b[0mmetadata\u001b[0m\u001b[0;34m[\u001b[0m\u001b[0;34m'partner_sample_id'\u001b[0m\u001b[0;34m]\u001b[0m\u001b[0;34m)\u001b[0m\u001b[0;34m\u001b[0m\u001b[0;34m\u001b[0m\u001b[0m\n\u001b[0m\u001b[1;32m     85\u001b[0m         \u001b[0mlog\u001b[0m\u001b[0;34m(\u001b[0m\u001b[0;34m\"Concatenating info and genotype dataframes...\"\u001b[0m\u001b[0;34m)\u001b[0m\u001b[0;34m\u001b[0m\u001b[0;34m\u001b[0m\u001b[0m\n\u001b[1;32m     86\u001b[0m         \u001b[0mvcf\u001b[0m \u001b[0;34m=\u001b[0m \u001b[0mpd\u001b[0m\u001b[0;34m.\u001b[0m\u001b[0mconcat\u001b[0m\u001b[0;34m(\u001b[0m\u001b[0;34m[\u001b[0m\u001b[0mvcf_df\u001b[0m\u001b[0;34m,\u001b[0m \u001b[0mvcf\u001b[0m\u001b[0;34m]\u001b[0m\u001b[0;34m,\u001b[0m \u001b[0maxis\u001b[0m\u001b[0;34m=\u001b[0m\u001b[0;36m1\u001b[0m\u001b[0;34m)\u001b[0m\u001b[0;34m\u001b[0m\u001b[0;34m\u001b[0m\u001b[0m\n",
      "\u001b[0;32m~/apps/anaconda3/envs/pysanj/lib/python3.7/site-packages/allel/model/ndarray.py\u001b[0m in \u001b[0;36mto_gt\u001b[0;34m(self, max_allele)\u001b[0m\n\u001b[1;32m   1003\u001b[0m \u001b[0;34m\u001b[0m\u001b[0m\n\u001b[1;32m   1004\u001b[0m         \u001b[0;31m# convert to string\u001b[0m\u001b[0;34m\u001b[0m\u001b[0;34m\u001b[0m\u001b[0;34m\u001b[0m\u001b[0m\n\u001b[0;32m-> 1005\u001b[0;31m         \u001b[0ma\u001b[0m \u001b[0;34m=\u001b[0m \u001b[0mself\u001b[0m\u001b[0;34m.\u001b[0m\u001b[0mastype\u001b[0m\u001b[0;34m(\u001b[0m\u001b[0;34m(\u001b[0m\u001b[0mnp\u001b[0m\u001b[0;34m.\u001b[0m\u001b[0mstring_\u001b[0m\u001b[0;34m,\u001b[0m \u001b[0mnchar\u001b[0m\u001b[0;34m)\u001b[0m\u001b[0;34m)\u001b[0m\u001b[0;34m.\u001b[0m\u001b[0mview\u001b[0m\u001b[0;34m(\u001b[0m\u001b[0mnp\u001b[0m\u001b[0;34m.\u001b[0m\u001b[0mchararray\u001b[0m\u001b[0;34m)\u001b[0m\u001b[0;34m\u001b[0m\u001b[0;34m\u001b[0m\u001b[0m\n\u001b[0m\u001b[1;32m   1006\u001b[0m \u001b[0;34m\u001b[0m\u001b[0m\n\u001b[1;32m   1007\u001b[0m         \u001b[0;31m# recode missing alleles\u001b[0m\u001b[0;34m\u001b[0m\u001b[0;34m\u001b[0m\u001b[0;34m\u001b[0m\u001b[0m\n",
      "\u001b[0;31mKeyboardInterrupt\u001b[0m: "
     ]
    }
   ],
   "source": [
    "sample_set = \"1244-VO-GH-YAWSON-VMF00149\"\n",
    "chroms = ['2L', '2R', '3L', '3R', 'X']\n",
    "\n",
    "for chrom in chroms:\n",
    "    \n",
    "    gn_to_pd_to_vcf(f\"../resources/vcfs/ag3_gaardian_{chrom}.vcf\", sample_set, chrom)\n",
    "    "
   ]
  },
  {
   "cell_type": "markdown",
   "metadata": {},
   "source": [
    "### Write biallelic VCF file"
   ]
  },
  {
   "cell_type": "code",
   "execution_count": 3,
   "metadata": {
    "scrolled": true
   },
   "outputs": [
    {
     "name": "stdout",
     "output_type": "stream",
     "text": [
      "File ../resources/vcfs/ag3_gaardian_2L.biallelic.vcf.gz Exists...\n",
      "File ../resources/vcfs/ag3_gaardian_2R.biallelic.vcf.gz Exists...\n",
      "File ../resources/vcfs/ag3_gaardian_3L.biallelic.vcf.gz Exists...\n",
      "File ../resources/vcfs/ag3_gaardian_3R.biallelic.vcf.gz Exists...\n",
      "File ../resources/vcfs/ag3_gaardian_X.biallelic.vcf.gz Exists...\n"
     ]
    }
   ],
   "source": [
    "sample_set = \"1244-VO-GH-YAWSON-VMF00149\"\n",
    "chroms = ['2L', '2R', '3L', '3R', 'X']\n",
    "\n",
    "for chrom in chroms:\n",
    "    \n",
    "    gn_to_pd_to_vcf(f\"../resources/vcfs/ag3_gaardian_{chrom}.biallelic.vcf\", sample_set, chrom, snpfilter=\"biallelic01\")"
   ]
  },
  {
   "cell_type": "code",
   "execution_count": null,
   "metadata": {},
   "outputs": [],
   "source": []
  }
 ],
 "metadata": {
  "kernelspec": {
   "display_name": "Python 3.7.3 64-bit ('pysanj': conda)",
   "language": "python",
   "name": "python37364bitpysanjconda39958c5ba9ef41c3a5542f2bfe81dc48"
  },
  "language_info": {
   "codemirror_mode": {
    "name": "ipython",
    "version": 3
   },
   "file_extension": ".py",
   "mimetype": "text/x-python",
   "name": "python",
   "nbconvert_exporter": "python",
   "pygments_lexer": "ipython3",
   "version": "3.7.6"
  }
 },
 "nbformat": 4,
 "nbformat_minor": 2
}
