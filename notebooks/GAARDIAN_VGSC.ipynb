{
 "cells": [
  {
   "cell_type": "code",
   "execution_count": 1,
   "metadata": {},
   "outputs": [],
   "source": [
    "%run tools.py"
   ]
  },
  {
   "cell_type": "markdown",
   "metadata": {},
   "source": [
    "### VGSC analyses - GAARDIAN"
   ]
  },
  {
   "cell_type": "code",
   "execution_count": 2,
   "metadata": {
    "colab": {
     "base_uri": "https://localhost:8080/",
     "height": 235
    },
    "id": "fdNQvnxns9Yo",
    "outputId": "0fad2fe4-76f5-4ccc-fb1a-6aff673779f9"
   },
   "outputs": [
    {
     "data": {
      "text/html": [
       "<div>\n",
       "<style scoped>\n",
       "    .dataframe tbody tr th:only-of-type {\n",
       "        vertical-align: middle;\n",
       "    }\n",
       "\n",
       "    .dataframe tbody tr th {\n",
       "        vertical-align: top;\n",
       "    }\n",
       "\n",
       "    .dataframe thead th {\n",
       "        text-align: right;\n",
       "    }\n",
       "</style>\n",
       "<table border=\"1\" class=\"dataframe\">\n",
       "  <thead>\n",
       "    <tr style=\"text-align: right;\">\n",
       "      <th></th>\n",
       "      <th>sample_set</th>\n",
       "      <th>sample_count</th>\n",
       "    </tr>\n",
       "  </thead>\n",
       "  <tbody>\n",
       "    <tr>\n",
       "      <th>0</th>\n",
       "      <td>1191-VO-MULTI-OLOUGHLIN-VMF00106</td>\n",
       "      <td>237</td>\n",
       "    </tr>\n",
       "    <tr>\n",
       "      <th>1</th>\n",
       "      <td>1191-VO-MULTI-OLOUGHLIN-VMF00140</td>\n",
       "      <td>1095</td>\n",
       "    </tr>\n",
       "    <tr>\n",
       "      <th>2</th>\n",
       "      <td>1244-VO-GH-YAWSON-VMF00149</td>\n",
       "      <td>485</td>\n",
       "    </tr>\n",
       "  </tbody>\n",
       "</table>\n",
       "</div>"
      ],
      "text/plain": [
       "                         sample_set  sample_count\n",
       "0  1191-VO-MULTI-OLOUGHLIN-VMF00106           237\n",
       "1  1191-VO-MULTI-OLOUGHLIN-VMF00140          1095\n",
       "2        1244-VO-GH-YAWSON-VMF00149           485"
      ]
     },
     "execution_count": 2,
     "metadata": {},
     "output_type": "execute_result"
    }
   ],
   "source": [
    "df_sample_sets = pd.read_csv(\"../resources/manifest.tsv\", sep=\"\\t\")\n",
    "df_sample_sets"
   ]
  },
  {
   "cell_type": "markdown",
   "metadata": {},
   "source": [
    "#### Load data"
   ]
  },
  {
   "cell_type": "code",
   "execution_count": 3,
   "metadata": {},
   "outputs": [],
   "source": [
    "sample_set = \"1244-VO-GH-YAWSON-VMF00149\"\n",
    "chroms = ['2L']"
   ]
  },
  {
   "cell_type": "code",
   "execution_count": 30,
   "metadata": {},
   "outputs": [],
   "source": [
    "snps = {}\n",
    "pos = {}\n",
    "\n",
    "for chrom in chroms:\n",
    "    \n",
    "    snps[chrom], pos[chrom], metadata = load_arrays_and_metadata(\"../resources\", sample_set, chrom)\n",
    "    \n",
    "metadata['location2'] = metadata['location'].str.split(\".\").str.get(0)"
   ]
  },
  {
   "cell_type": "code",
   "execution_count": 5,
   "metadata": {},
   "outputs": [
    {
     "data": {
      "text/html": [
       "<div>\n",
       "<style scoped>\n",
       "    .dataframe tbody tr th:only-of-type {\n",
       "        vertical-align: middle;\n",
       "    }\n",
       "\n",
       "    .dataframe tbody tr th {\n",
       "        vertical-align: top;\n",
       "    }\n",
       "\n",
       "    .dataframe thead th {\n",
       "        text-align: right;\n",
       "    }\n",
       "</style>\n",
       "<table border=\"1\" class=\"dataframe\">\n",
       "  <thead>\n",
       "    <tr style=\"text-align: right;\">\n",
       "      <th></th>\n",
       "      <th>sample_id</th>\n",
       "      <th>partner_sample_id</th>\n",
       "      <th>contributor</th>\n",
       "      <th>country</th>\n",
       "      <th>location</th>\n",
       "      <th>year</th>\n",
       "      <th>month</th>\n",
       "      <th>latitude</th>\n",
       "      <th>longitude</th>\n",
       "      <th>sex_call</th>\n",
       "      <th>species_gambiae_coluzzii</th>\n",
       "      <th>location2</th>\n",
       "    </tr>\n",
       "  </thead>\n",
       "  <tbody>\n",
       "    <tr>\n",
       "      <th>0</th>\n",
       "      <td>VBS45187-5563STDY8782450</td>\n",
       "      <td>WA-2001</td>\n",
       "      <td>Alexander Egyir-Yawson</td>\n",
       "      <td>Ghana</td>\n",
       "      <td>Adumanu.House.A</td>\n",
       "      <td>2018</td>\n",
       "      <td>3</td>\n",
       "      <td>6.304</td>\n",
       "      <td>-1.681</td>\n",
       "      <td>F</td>\n",
       "      <td>gambiae</td>\n",
       "      <td>Adumanu</td>\n",
       "    </tr>\n",
       "    <tr>\n",
       "      <th>1</th>\n",
       "      <td>VBS45188-5563STDY8782451</td>\n",
       "      <td>WA-2002</td>\n",
       "      <td>Alexander Egyir-Yawson</td>\n",
       "      <td>Ghana</td>\n",
       "      <td>Adumanu.House.C</td>\n",
       "      <td>2018</td>\n",
       "      <td>10</td>\n",
       "      <td>6.302</td>\n",
       "      <td>-1.682</td>\n",
       "      <td>F</td>\n",
       "      <td>coluzzii</td>\n",
       "      <td>Adumanu</td>\n",
       "    </tr>\n",
       "  </tbody>\n",
       "</table>\n",
       "</div>"
      ],
      "text/plain": [
       "                  sample_id partner_sample_id             contributor country  \\\n",
       "0  VBS45187-5563STDY8782450           WA-2001  Alexander Egyir-Yawson   Ghana   \n",
       "1  VBS45188-5563STDY8782451           WA-2002  Alexander Egyir-Yawson   Ghana   \n",
       "\n",
       "          location  year  month  latitude  longitude sex_call  \\\n",
       "0  Adumanu.House.A  2018      3     6.304     -1.681        F   \n",
       "1  Adumanu.House.C  2018     10     6.302     -1.682        F   \n",
       "\n",
       "  species_gambiae_coluzzii location2  \n",
       "0                  gambiae   Adumanu  \n",
       "1                 coluzzii   Adumanu  "
      ]
     },
     "execution_count": 5,
     "metadata": {},
     "output_type": "execute_result"
    }
   ],
   "source": [
    "metadata.head(2)"
   ]
  },
  {
   "cell_type": "markdown",
   "metadata": {},
   "source": [
    "#### Calculate VGSC allele freqs"
   ]
  },
  {
   "cell_type": "code",
   "execution_count": 22,
   "metadata": {},
   "outputs": [
    {
     "name": "stderr",
     "output_type": "stream",
     "text": [
      "/home/sanj/apps/anaconda3/envs/pysanj/lib/python3.7/site-packages/pandas/core/indexing.py:845: SettingWithCopyWarning: \n",
      "A value is trying to be set on a copy of a slice from a DataFrame.\n",
      "Try using .loc[row_indexer,col_indexer] = value instead\n",
      "\n",
      "See the caveats in the documentation: https://pandas.pydata.org/pandas-docs/stable/user_guide/indexing.html#returning-a-view-versus-a-copy\n",
      "  self.obj[key] = _infer_fill_value(value)\n",
      "/home/sanj/apps/anaconda3/envs/pysanj/lib/python3.7/site-packages/pandas/core/indexing.py:966: SettingWithCopyWarning: \n",
      "A value is trying to be set on a copy of a slice from a DataFrame.\n",
      "Try using .loc[row_indexer,col_indexer] = value instead\n",
      "\n",
      "See the caveats in the documentation: https://pandas.pydata.org/pandas-docs/stable/user_guide/indexing.html#returning-a-view-versus-a-copy\n",
      "  self.obj[item] = s\n"
     ]
    },
    {
     "data": {
      "text/html": [
       "<div>\n",
       "<style scoped>\n",
       "    .dataframe tbody tr th:only-of-type {\n",
       "        vertical-align: middle;\n",
       "    }\n",
       "\n",
       "    .dataframe tbody tr th {\n",
       "        vertical-align: top;\n",
       "    }\n",
       "\n",
       "    .dataframe thead th {\n",
       "        text-align: right;\n",
       "    }\n",
       "</style>\n",
       "<table border=\"1\" class=\"dataframe\">\n",
       "  <thead>\n",
       "    <tr style=\"text-align: right;\">\n",
       "      <th></th>\n",
       "      <th>Gene</th>\n",
       "      <th>GeneID</th>\n",
       "      <th>ALT</th>\n",
       "      <th>ALT2</th>\n",
       "      <th>Name</th>\n",
       "      <th>Location</th>\n",
       "      <th>Position</th>\n",
       "    </tr>\n",
       "  </thead>\n",
       "  <tbody>\n",
       "    <tr>\n",
       "      <th>0</th>\n",
       "      <td>VGSC</td>\n",
       "      <td>AGAP004707</td>\n",
       "      <td>C</td>\n",
       "      <td>T</td>\n",
       "      <td>V402L</td>\n",
       "      <td>2L:2391228-2391228</td>\n",
       "      <td>2391228</td>\n",
       "    </tr>\n",
       "    <tr>\n",
       "      <th>1</th>\n",
       "      <td>VGSC</td>\n",
       "      <td>AGAP004707</td>\n",
       "      <td>T</td>\n",
       "      <td>NaN</td>\n",
       "      <td>T791M</td>\n",
       "      <td>2L:2416980-2416980</td>\n",
       "      <td>2416980</td>\n",
       "    </tr>\n",
       "    <tr>\n",
       "      <th>2</th>\n",
       "      <td>VGSC</td>\n",
       "      <td>AGAP004707</td>\n",
       "      <td>C</td>\n",
       "      <td>NaN</td>\n",
       "      <td>L995S</td>\n",
       "      <td>2L:2422651-2422651</td>\n",
       "      <td>2422651</td>\n",
       "    </tr>\n",
       "    <tr>\n",
       "      <th>3</th>\n",
       "      <td>VGSC</td>\n",
       "      <td>AGAP004707</td>\n",
       "      <td>T</td>\n",
       "      <td>NaN</td>\n",
       "      <td>L995F</td>\n",
       "      <td>2L:2422652-2422652</td>\n",
       "      <td>2422652</td>\n",
       "    </tr>\n",
       "    <tr>\n",
       "      <th>4</th>\n",
       "      <td>VGSC</td>\n",
       "      <td>AGAP004707</td>\n",
       "      <td>C</td>\n",
       "      <td>NaN</td>\n",
       "      <td>I1527T</td>\n",
       "      <td>2L:2429617-2429617</td>\n",
       "      <td>2429617</td>\n",
       "    </tr>\n",
       "    <tr>\n",
       "      <th>5</th>\n",
       "      <td>VGSC</td>\n",
       "      <td>AGAP004707</td>\n",
       "      <td>T</td>\n",
       "      <td>NaN</td>\n",
       "      <td>N1570Y</td>\n",
       "      <td>2L:2429745-2429745</td>\n",
       "      <td>2429745</td>\n",
       "    </tr>\n",
       "    <tr>\n",
       "      <th>6</th>\n",
       "      <td>VGSC</td>\n",
       "      <td>AGAP004707</td>\n",
       "      <td>T</td>\n",
       "      <td>NaN</td>\n",
       "      <td>P1874S</td>\n",
       "      <td>2L:2430880-2430880</td>\n",
       "      <td>2430880</td>\n",
       "    </tr>\n",
       "    <tr>\n",
       "      <th>7</th>\n",
       "      <td>VGSC</td>\n",
       "      <td>AGAP004707</td>\n",
       "      <td>T</td>\n",
       "      <td>NaN</td>\n",
       "      <td>P1874L</td>\n",
       "      <td>2L:2430881-2430881</td>\n",
       "      <td>2430881</td>\n",
       "    </tr>\n",
       "  </tbody>\n",
       "</table>\n",
       "</div>"
      ],
      "text/plain": [
       "   Gene      GeneID ALT ALT2    Name            Location Position\n",
       "0  VGSC  AGAP004707   C    T   V402L  2L:2391228-2391228  2391228\n",
       "1  VGSC  AGAP004707   T  NaN   T791M  2L:2416980-2416980  2416980\n",
       "2  VGSC  AGAP004707   C  NaN   L995S  2L:2422651-2422651  2422651\n",
       "3  VGSC  AGAP004707   T  NaN   L995F  2L:2422652-2422652  2422652\n",
       "4  VGSC  AGAP004707   C  NaN  I1527T  2L:2429617-2429617  2429617\n",
       "5  VGSC  AGAP004707   T  NaN  N1570Y  2L:2429745-2429745  2429745\n",
       "6  VGSC  AGAP004707   T  NaN  P1874S  2L:2430880-2430880  2430880\n",
       "7  VGSC  AGAP004707   T  NaN  P1874L  2L:2430881-2430881  2430881"
      ]
     },
     "execution_count": 22,
     "metadata": {},
     "output_type": "execute_result"
    }
   ],
   "source": [
    "mutations = pd.read_csv(\"../../IR/rna-seq-busia/resources/exampleMutations.tsv\", sep=\"\\t\")\n",
    "vgsc = mutations.query(\"Gene == 'VGSC'\")\n",
    "vgsc['Position'] = vgsc['Location'].str.split(\"-\").str.get(1)\n",
    "vgsc"
   ]
  },
  {
   "cell_type": "code",
   "execution_count": 11,
   "metadata": {},
   "outputs": [],
   "source": [
    "coluzzii_bool = metadata.species_gambiae_coluzzii == 'coluzzii'\n",
    "geno = snps[chrom].compress(coluzzii_bool, axis=1)\n",
    "meta = metadata[coluzzii_bool]"
   ]
  },
  {
   "cell_type": "code",
   "execution_count": 45,
   "metadata": {},
   "outputs": [
    {
     "name": "stdout",
     "output_type": "stream",
     "text": [
      "V402L [[0.86492891 0.         0.07938389 0.0556872 ]]\n",
      "T791M [[0.98933649 0.         0.01066351]]\n",
      "L995S [[1.]]\n",
      "L995F [[0.13507109 0.         0.86492891]]\n",
      "I1527T [[0.86492891 0.         0.13507109]]\n",
      "N1570Y [[1.]]\n",
      "P1874S [[0.66469194 0.         0.33530806]]\n",
      "P1874L [[0.99052133 0.         0.00947867]]\n"
     ]
    }
   ],
   "source": [
    "for idx, row in vgsc.iterrows():\n",
    "    \n",
    "    mut = row['Name']\n",
    "    position = row['Position']\n",
    "    \n",
    "    bool_ = pos[chrom] == int(position)\n",
    "    \n",
    "    gn = geno.compress(bool_, axis=0)\n",
    "    freq = gn.count_alleles().to_frequencies()\n",
    "    \n",
    "    print(mut, freq.compute())"
   ]
  },
  {
   "cell_type": "code",
   "execution_count": 46,
   "metadata": {},
   "outputs": [],
   "source": [
    "gamb_bool = metadata.species_gambiae_coluzzii == 'gambiae'\n",
    "geno = snps[chrom].compress(gamb_bool, axis=1)\n",
    "meta = metadata[gamb_bool]"
   ]
  },
  {
   "cell_type": "code",
   "execution_count": 48,
   "metadata": {},
   "outputs": [
    {
     "name": "stdout",
     "output_type": "stream",
     "text": [
      "V402L [[1.]]\n",
      "T791M [[0.63492063 0.         0.36507937]]\n",
      "L995S [[1.]]\n",
      "L995F [[0. 0. 1.]]\n",
      "I1527T [[1.]]\n",
      "N1570Y [[0.88888889 0.         0.11111111]]\n",
      "P1874S [[0.99206349 0.00793651]]\n",
      "P1874L [[0.72222222 0.         0.27777778]]\n"
     ]
    }
   ],
   "source": [
    "for idx, row in vgsc.iterrows():\n",
    "    \n",
    "    mut = row['Name']\n",
    "    position = row['Position']\n",
    "    \n",
    "    bool_ = pos[chrom] == int(position)\n",
    "    \n",
    "    gn = geno.compress(bool_, axis=0)\n",
    "    freq = gn.count_alleles().to_frequencies()\n",
    "    \n",
    "    print(mut, freq.compute())"
   ]
  },
  {
   "cell_type": "code",
   "execution_count": null,
   "metadata": {},
   "outputs": [],
   "source": []
  },
  {
   "cell_type": "code",
   "execution_count": 50,
   "metadata": {},
   "outputs": [],
   "source": [
    "?allel.write_vcf"
   ]
  },
  {
   "cell_type": "code",
   "execution_count": 54,
   "metadata": {},
   "outputs": [],
   "source": [
    "geno= geno[:1000]"
   ]
  },
  {
   "cell_type": "code",
   "execution_count": 57,
   "metadata": {},
   "outputs": [
    {
     "data": {
      "text/plain": [
       "{'2L': array([    1215,     1216,     1231, ..., 49356403, 49356404, 49359100],\n",
       "       dtype=int32)}"
      ]
     },
     "execution_count": 57,
     "metadata": {},
     "output_type": "execute_result"
    }
   ],
   "source": [
    "pos"
   ]
  },
  {
   "cell_type": "code",
   "execution_count": 56,
   "metadata": {},
   "outputs": [
    {
     "ename": "TypeError",
     "evalue": "unhashable type: 'slice'",
     "output_type": "error",
     "traceback": [
      "\u001b[0;31m---------------------------------------------------------------------------\u001b[0m",
      "\u001b[0;31mTypeError\u001b[0m                                 Traceback (most recent call last)",
      "\u001b[0;32m<ipython-input-56-56e1b7c4c105>\u001b[0m in \u001b[0;36m<module>\u001b[0;34m\u001b[0m\n\u001b[0;32m----> 1\u001b[0;31m \u001b[0mpos\u001b[0m\u001b[0;34m[\u001b[0m\u001b[0;34m:\u001b[0m\u001b[0;36m1000\u001b[0m\u001b[0;34m]\u001b[0m\u001b[0;34m\u001b[0m\u001b[0;34m\u001b[0m\u001b[0m\n\u001b[0m",
      "\u001b[0;31mTypeError\u001b[0m: unhashable type: 'slice'"
     ]
    }
   ],
   "source": [
    "pos[:1000]"
   ]
  },
  {
   "cell_type": "code",
   "execution_count": 58,
   "metadata": {},
   "outputs": [],
   "source": [
    "callset = {'CHROM': '2L', 'POS': pos['2L'][:1000], \"calldata/GT\": geno}\n",
    "\n"
   ]
  },
  {
   "cell_type": "code",
   "execution_count": 59,
   "metadata": {},
   "outputs": [],
   "source": [
    "allel.write_vcf(\"test.vcf\", callset)"
   ]
  },
  {
   "cell_type": "code",
   "execution_count": 60,
   "metadata": {},
   "outputs": [
    {
     "name": "stdout",
     "output_type": "stream",
     "text": [
      "Fst_fm_coluzzii.tsv             GAARDIAN_VGSC.ipynb       test.vcf\r\n",
      "G12_GAARDIAN_all_samples.ipynb  Karyotype_gaardian.ipynb  tools.py\r\n",
      "GAARDIAN_Fst.ipynb              \u001b[0m\u001b[01;34mold\u001b[0m/\r\n",
      "GAARDIAN_PCA.ipynb              PCA_GAARDIAN.ipynb\r\n"
     ]
    }
   ],
   "source": [
    "ls"
   ]
  },
  {
   "cell_type": "code",
   "execution_count": 61,
   "metadata": {},
   "outputs": [
    {
     "name": "stdout",
     "output_type": "stream",
     "text": [
      "##fileformat=VCFv4.1\r\n",
      "##fileDate=20211108\r\n",
      "##source=scikit-allel-1.2.1\r\n",
      "#CHROM\tPOS\tID\tREF\tALT\tQUAL\tFILTER\tINFO\r\n",
      "2\t1215\t.\t.\t.\t.\t.\t.\r\n",
      "L\t1216\t.\t.\t.\t.\t.\t.\r\n"
     ]
    }
   ],
   "source": [
    "cat test.vcf"
   ]
  }
 ],
 "metadata": {
  "colab": {
   "collapsed_sections": [],
   "machine_shape": "hm",
   "name": "GAARD_v32_QC-LTC.ipynb",
   "provenance": []
  },
  "kernelspec": {
   "display_name": "Python 3.7.3 64-bit ('pysanj': conda)",
   "language": "python",
   "name": "python37364bitpysanjconda39958c5ba9ef41c3a5542f2bfe81dc48"
  },
  "language_info": {
   "codemirror_mode": {
    "name": "ipython",
    "version": 3
   },
   "file_extension": ".py",
   "mimetype": "text/x-python",
   "name": "python",
   "nbconvert_exporter": "python",
   "pygments_lexer": "ipython3",
   "version": "3.7.6"
  }
 },
 "nbformat": 4,
 "nbformat_minor": 4
}
